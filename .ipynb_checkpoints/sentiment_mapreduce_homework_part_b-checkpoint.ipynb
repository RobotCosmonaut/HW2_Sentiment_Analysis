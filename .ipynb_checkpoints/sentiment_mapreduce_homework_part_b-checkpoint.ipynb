{
 "cells": [
  {
   "cell_type": "markdown",
   "id": "d0846c04",
   "metadata": {},
   "source": [
    "# Sentiment Analysis (MapReduce-Style) — Starter Notebook\n",
    "This notebook is a **minimal template**. You will fill in the TODOs to:\n",
    "1) Define keyword sets\n",
    "2) Implement the `map_post` function (Map)\n",
    "3) Group by label (Shuffle/Group)\n",
    "4) Sum totals (Reduce)\n",
    "5) Print counts **and** a final verdict (Happier / Sadder / Tied)\n",
    "\n",
    "Use the provided dataset path or change it to your file.\n",
    "Keep the logic **very simple** (exact keyword matches, case-insensitive)."
   ]
  },
  {
   "cell_type": "markdown",
   "id": "89f75f6a",
   "metadata": {},
   "source": [
    "## 0) Dataset Path (edit if needed)"
   ]
  },
  {
   "cell_type": "code",
   "execution_count": 2,
   "id": "ce7d2344",
   "metadata": {},
   "outputs": [
    {
     "name": "stdout",
     "output_type": "stream",
     "text": [
      "Using dataset: data/sample_us_posts_mixed.txt\n"
     ]
    }
   ],
   "source": [
    "DATA_PATH = 'data/sample_us_posts_mixed.txt'  \n",
    "print('Using dataset:', DATA_PATH)"
   ]
  },
  {
   "cell_type": "markdown",
   "id": "6b0a2a71",
   "metadata": {},
   "source": [
    "## 1) Keywords (TODO)\n",
    "Fill in positive and negative keyword sets."
   ]
  },
  {
   "cell_type": "code",
   "execution_count": 3,
   "id": "dc4a50d9",
   "metadata": {},
   "outputs": [
    {
     "name": "stdout",
     "output_type": "stream",
     "text": [
      "POS: {'excited', 'thrilled', 'love', 'happy'} \n",
      "NEG: {'angry', 'depressed', 'sad', 'upset'}\n"
     ]
    }
   ],
   "source": [
    "POS = set(['happy', 'excited', 'thrilled', 'love'])\n",
    "NEG = set(['sad', 'depressed', 'angry', 'upset'])\n",
    "print('POS:', POS, '\\nNEG:', NEG)"
   ]
  },
  {
   "cell_type": "markdown",
   "id": "65014753",
   "metadata": {},
   "source": [
    "## 2) Map (TODO)\n",
    "Implement a function that reads one line and returns a list with one pair: (label, 1)\n",
    "Rules:\n",
    "- Positive if contains ≥1 positive keyword and no negative\n",
    "- Negative if contains ≥1 negative and no positive\n",
    "- Mixed if contains both\n",
    "- Neutral otherwise\n",
    "\n",
    "Hints:\n",
    "- Use `line.lower()` and `split()` to get words for simplicity."
   ]
  },
  {
   "cell_type": "code",
   "execution_count": 4,
   "id": "86ade4ac",
   "metadata": {},
   "outputs": [],
   "source": [
    "def map_post(line: str):\n",
    "    \n",
    "    words = line.lower().split()\n",
    "    \n",
    "    has_positive = any(word in POS for word in words)\n",
    "    has_negative = any(word in NEG for word in words)\n",
    "    \n",
    "    label = \"Neutral\"\n",
    "    if has_positive and not has_negative:\n",
    "        label = \"Positive\"\n",
    "    elif has_negative and not has_positive:\n",
    "        label = \"Negative\"\n",
    "    elif has_positive and has_negative:\n",
    "        label = \"Mixed\"\n",
    "        \n",
    "    return [(label, 1)]"
   ]
  },
  {
   "cell_type": "markdown",
   "id": "2a02d74d",
   "metadata": {},
   "source": [
    "## 3) Driver: Map Over Lines (provided)\n",
    "We iterate through the file and collect `(label, 1)` pairs."
   ]
  },
  {
   "cell_type": "code",
   "execution_count": 5,
   "id": "d276d45c",
   "metadata": {},
   "outputs": [
    {
     "name": "stdout",
     "output_type": "stream",
     "text": [
      "First few mapped items: [('Mixed', 1), ('Positive', 1), ('Negative', 1), ('Neutral', 1), ('Negative', 1), ('Positive', 1), ('Positive', 1), ('Positive', 1), ('Negative', 1), ('Positive', 1)]\n"
     ]
    }
   ],
   "source": [
    "mapped = []\n",
    "with open(DATA_PATH, 'r', encoding='utf-8') as f:\n",
    "    for line in f:\n",
    "        if line.strip():\n",
    "            pairs = map_post(line)\n",
    "            mapped.extend(pairs)\n",
    "print('First few mapped items:', mapped[:10])"
   ]
  },
  {
   "cell_type": "markdown",
   "id": "3e087ff6",
   "metadata": {},
   "source": [
    "## 4) Shuffle/Group (TODO)\n",
    "Group values by label into a dictionary, e.g., {'Positive':[1,1,...], 'Negative':[1,...]}."
   ]
  },
  {
   "cell_type": "code",
   "execution_count": 6,
   "id": "52bc68a2",
   "metadata": {},
   "outputs": [
    {
     "name": "stdout",
     "output_type": "stream",
     "text": [
      "{'Mixed': [1, 1], 'Positive': [1, 1, 1, 1, 1, 1, 1], 'Negative': [1, 1, 1, 1], 'Neutral': [1, 1]}\n"
     ]
    }
   ],
   "source": [
    "groups = {}\n",
    "for label, value in mapped:\n",
    "    groups.setdefault(label, []).append(value)\n",
    "print(groups)"
   ]
  },
  {
   "cell_type": "markdown",
   "id": "f261f866",
   "metadata": {},
   "source": [
    "## 5) Reduce (TODO)\n",
    "Create totals by summing values for each label, e.g., {'Positive': 3, 'Negative': 2, ...}"
   ]
  },
  {
   "cell_type": "code",
   "execution_count": 7,
   "id": "0cc9b676",
   "metadata": {},
   "outputs": [
    {
     "name": "stdout",
     "output_type": "stream",
     "text": [
      "{'Mixed': 2, 'Positive': 7, 'Negative': 4, 'Neutral': 2}\n"
     ]
    }
   ],
   "source": [
    "totals = {label: len(values) for label, values in groups.items()}\n",
    "print(totals)"
   ]
  },
  {
   "cell_type": "markdown",
   "id": "9c1dc4ed",
   "metadata": {},
   "source": [
    "## 6) Print Counts and Verdict (TODO)\n",
    "- Print totals for all labels\n",
    "- Compute and print a **verdict**: Happier / Sadder / Tied\n",
    "  based on Positive vs Negative counts."
   ]
  },
  {
   "cell_type": "code",
   "execution_count": 8,
   "id": "3676dffd",
   "metadata": {},
   "outputs": [
    {
     "name": "stdout",
     "output_type": "stream",
     "text": [
      "{'Mixed': 2, 'Positive': 7, 'Negative': 4, 'Neutral': 2}\n",
      "Verdict: Happier\n"
     ]
    }
   ],
   "source": [
    "print(totals)\n",
    "\n",
    "positive_count = totals.get('Positive', 0)\n",
    "negative_count = totals.get('Negative', 0)\n",
    "\n",
    "if positive_count > negative_count:\n",
    "    verdict = \"Happier\"\n",
    "elif negative_count > positive_count:\n",
    "    verdict = \"Sadder\"\n",
    "else:\n",
    "    verdict = \"Tied\"\n",
    "\n",
    "print(\"Verdict:\", verdict)"
   ]
  },
  {
   "cell_type": "markdown",
   "id": "b6e24fe0",
   "metadata": {},
   "source": [
    "## 7) Optional: Bar Chart (nice to have)\n",
    "If you know matplotlib, you can draw a simple bar chart."
   ]
  },
  {
   "cell_type": "code",
   "execution_count": 9,
   "id": "21256f55",
   "metadata": {
    "scrolled": true
   },
   "outputs": [
    {
     "data": {
      "image/png": "[encoded data removed]",
      "text/plain": [
       "<Figure size 350x250 with 1 Axes>"
      ]
     },
     "metadata": {},
     "output_type": "display_data"
    }
   ],
   "source": [
    "try:\n",
    "    import matplotlib.pyplot as plt\n",
    "    labels = list(totals.keys())\n",
    "    values = [totals[k] for k in labels]\n",
    "    colors = [\"orange\", \"lightgreen\", \"red\", \"grey\"]\n",
    "    plt.figure(figsize=(3.5, 2.5))\n",
    "    plt.bar(labels, values, color=colors)\n",
    "    plt.title('Sentiment counts')\n",
    "    plt.xlabel('Label')\n",
    "    plt.ylabel('Count')\n",
    "    plt.show()\n",
    "except Exception as e:\n",
    "    print('Chart skipped or totals not ready yet:', e)"
   ]
  },
  {
   "cell_type": "markdown",
   "id": "007b3752",
   "metadata": {},
   "source": [
    "---\n",
    "### Checklist to Submit\n",
    "- [X] Filled POS/NEG keywords\n",
    "- [X] Implemented `map_post`\n",
    "- [X] Grouped mapped output into `groups`\n",
    "- [X] Reduced to `totals`\n",
    "- [X] Printed totals and verdict\n",
    "- [X] (Optional) Chart\n"
   ]
  },
  {
   "cell_type": "code",
   "execution_count": null,
   "id": "14c49e8d-1269-4cfd-be1b-e6c3a1b14f06",
   "metadata": {},
   "outputs": [],
   "source": []
  }
 ],
 "metadata": {
  "kernelspec": {
   "display_name": "Python 3 (ipykernel)",
   "language": "python",
   "name": "python3"
  },
  "language_info": {
   "codemirror_mode": {
    "name": "ipython",
    "version": 3
   },
   "file_extension": ".py",
   "mimetype": "text/x-python",
   "name": "python",
   "nbconvert_exporter": "python",
   "pygments_lexer": "ipython3",
   "version": "3.13.5"
  }
 },
 "nbformat": 4,
 "nbformat_minor": 5
}

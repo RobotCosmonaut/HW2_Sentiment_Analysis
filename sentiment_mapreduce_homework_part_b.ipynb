{
 "cells": [
  {
   "cell_type": "markdown",
   "id": "d0846c04",
   "metadata": {},
   "source": [
    "# Sentiment Analysis (MapReduce-Style) — Starter Notebook\n",
    "This notebook is a **minimal template**. You will fill in the TODOs to:\n",
    "1) Define keyword sets\n",
    "2) Implement the `map_post` function (Map)\n",
    "3) Group by label (Shuffle/Group)\n",
    "4) Sum totals (Reduce)\n",
    "5) Print counts **and** a final verdict (Happier / Sadder / Tied)\n",
    "\n",
    "Use the provided dataset path or change it to your file.\n",
    "Keep the logic **very simple** (exact keyword matches, case-insensitive)."
   ]
  },
  {
   "cell_type": "markdown",
   "id": "89f75f6a",
   "metadata": {},
   "source": [
    "## 0) Dataset Path (edit if needed)"
   ]
  },
  {
   "cell_type": "code",
   "execution_count": 1,
   "id": "ce7d2344",
   "metadata": {},
   "outputs": [
    {
     "name": "stdout",
     "output_type": "stream",
     "text": [
      "Using dataset: ./data/sample_us_posts.txt\n"
     ]
    }
   ],
   "source": [
    "DATA_PATH = './data/sample_us_posts.txt'  # TODO: change path if needed\n",
    "print('Using dataset:', DATA_PATH)"
   ]
  },
  {
   "cell_type": "markdown",
   "id": "6b0a2a71",
   "metadata": {},
   "source": [
    "## 1) Keywords (TODO)\n",
    "Fill in positive and negative keyword sets."
   ]
  },
  {
   "cell_type": "code",
   "execution_count": 2,
   "id": "dc4a50d9",
   "metadata": {},
   "outputs": [
    {
     "name": "stdout",
     "output_type": "stream",
     "text": [
      "POS: {'love', 'excited', 'happy', 'thrilled'} \n",
      "NEG: {'upset', 'sad', 'angry', 'depressed'}\n"
     ]
    }
   ],
   "source": [
    "POS = set(['happy', 'excited', 'thrilled', 'love'])  # TODO: e.g., {'happy', 'excited'}\n",
    "NEG = set(['sad', 'depressed', 'angry', 'upset'])  # TODO: e.g., {'sad', 'depressed'}\n",
    "print('POS:', POS, '\\nNEG:', NEG)"
   ]
  },
  {
   "cell_type": "markdown",
   "id": "65014753",
   "metadata": {},
   "source": [
    "## 2) Map (TODO)\n",
    "Implement a function that reads one line and returns a list with one pair: (label, 1)\n",
    "Rules:\n",
    "- Positive if contains ≥1 positive keyword and no negative\n",
    "- Negative if contains ≥1 negative and no positive\n",
    "- Mixed if contains both\n",
    "- Neutral otherwise\n",
    "\n",
    "Hints:\n",
    "- Use `line.lower()` and `split()` to get words for simplicity."
   ]
  },
  {
   "cell_type": "code",
   "execution_count": 6,
   "id": "86ade4ac",
   "metadata": {},
   "outputs": [],
   "source": [
    "def map_post(line: str):\n",
    "    # TODO: implement simple keyword-based classification\n",
    "    # 1) lowercase, 2) split into words, 3) check keyword presence\n",
    "    # return [('Positive', 1)] or [('Negative', 1)] or [('Mixed', 1)] or [('Neutral', 1)]\n",
    "    raise NotImplementedError('map_post is not implemented yet')\n"
   ]
  },
  {
   "cell_type": "markdown",
   "id": "2a02d74d",
   "metadata": {},
   "source": [
    "## 3) Driver: Map Over Lines (provided)\n",
    "We iterate through the file and collect `(label, 1)` pairs."
   ]
  },
  {
   "cell_type": "code",
   "execution_count": 9,
   "id": "d276d45c",
   "metadata": {},
   "outputs": [
    {
     "ename": "NotImplementedError",
     "evalue": "map_post is not implemented yet",
     "output_type": "error",
     "traceback": [
      "\u001b[1;31m---------------------------------------------------------------------------\u001b[0m",
      "\u001b[1;31mNotImplementedError\u001b[0m                       Traceback (most recent call last)",
      "Cell \u001b[1;32mIn[9], line 5\u001b[0m\n\u001b[0;32m      3\u001b[0m     \u001b[38;5;28;01mfor\u001b[39;00m line \u001b[38;5;129;01min\u001b[39;00m f:\n\u001b[0;32m      4\u001b[0m         \u001b[38;5;28;01mif\u001b[39;00m line\u001b[38;5;241m.\u001b[39mstrip():\n\u001b[1;32m----> 5\u001b[0m             pairs \u001b[38;5;241m=\u001b[39m map_post(line)\n\u001b[0;32m      6\u001b[0m             mapped\u001b[38;5;241m.\u001b[39mextend(pairs)\n\u001b[0;32m      7\u001b[0m \u001b[38;5;28mprint\u001b[39m(\u001b[38;5;124m'\u001b[39m\u001b[38;5;124mFirst few mapped items:\u001b[39m\u001b[38;5;124m'\u001b[39m, mapped[:\u001b[38;5;241m10\u001b[39m])\n",
      "Cell \u001b[1;32mIn[6], line 5\u001b[0m, in \u001b[0;36mmap_post\u001b[1;34m(line)\u001b[0m\n\u001b[0;32m      1\u001b[0m \u001b[38;5;28;01mdef\u001b[39;00m\u001b[38;5;250m \u001b[39m\u001b[38;5;21mmap_post\u001b[39m(line: \u001b[38;5;28mstr\u001b[39m):\n\u001b[0;32m      2\u001b[0m     \u001b[38;5;66;03m# TODO: implement simple keyword-based classification\u001b[39;00m\n\u001b[0;32m      3\u001b[0m     \u001b[38;5;66;03m# 1) lowercase, 2) split into words, 3) check keyword presence\u001b[39;00m\n\u001b[0;32m      4\u001b[0m     \u001b[38;5;66;03m# return [('Positive', 1)] or [('Negative', 1)] or [('Mixed', 1)] or [('Neutral', 1)]\u001b[39;00m\n\u001b[1;32m----> 5\u001b[0m     \u001b[38;5;28;01mraise\u001b[39;00m \u001b[38;5;167;01mNotImplementedError\u001b[39;00m(\u001b[38;5;124m'\u001b[39m\u001b[38;5;124mmap_post is not implemented yet\u001b[39m\u001b[38;5;124m'\u001b[39m)\n",
      "\u001b[1;31mNotImplementedError\u001b[0m: map_post is not implemented yet"
     ]
    }
   ],
   "source": [
    "mapped = []\n",
    "with open(DATA_PATH, 'r', encoding='utf-8') as f:\n",
    "    for line in f:\n",
    "        if line.strip():\n",
    "            pairs = map_post(line)\n",
    "            mapped.extend(pairs)\n",
    "print('First few mapped items:', mapped[:10])"
   ]
  },
  {
   "cell_type": "markdown",
   "id": "3e087ff6",
   "metadata": {},
   "source": [
    "## 4) Shuffle/Group (TODO)\n",
    "Group values by label into a dictionary, e.g., {'Positive':[1,1,...], 'Negative':[1,...]}."
   ]
  },
  {
   "cell_type": "code",
   "execution_count": null,
   "id": "52bc68a2",
   "metadata": {},
   "outputs": [],
   "source": [
    "groups = {}\n",
    "# TODO: fill groups from mapped\n",
    "# for (label, value) in mapped: add value to groups[label]\n",
    "raise NotImplementedError('shuffle/group is not implemented yet')\n"
   ]
  },
  {
   "cell_type": "markdown",
   "id": "f261f866",
   "metadata": {},
   "source": [
    "## 5) Reduce (TODO)\n",
    "Create totals by summing values for each label, e.g., {'Positive': 3, 'Negative': 2, ...}"
   ]
  },
  {
   "cell_type": "code",
   "execution_count": null,
   "id": "0cc9b676",
   "metadata": {},
   "outputs": [],
   "source": [
    "totals = {}\n",
    "# TODO: totals[label] = sum(list_of_values)\n",
    "raise NotImplementedError('reduce is not implemented yet')\n"
   ]
  },
  {
   "cell_type": "markdown",
   "id": "9c1dc4ed",
   "metadata": {},
   "source": [
    "## 6) Print Counts and Verdict (TODO)\n",
    "- Print totals for all labels\n",
    "- Compute and print a **verdict**: Happier / Sadder / Tied\n",
    "  based on Positive vs Negative counts."
   ]
  },
  {
   "cell_type": "code",
   "execution_count": 8,
   "id": "3676dffd",
   "metadata": {},
   "outputs": [
    {
     "ename": "NotImplementedError",
     "evalue": "verdict not implemented yet",
     "output_type": "error",
     "traceback": [
      "\u001b[1;31m---------------------------------------------------------------------------\u001b[0m",
      "\u001b[1;31mNotImplementedError\u001b[0m                       Traceback (most recent call last)",
      "Cell \u001b[1;32mIn[8], line 3\u001b[0m\n\u001b[0;32m      1\u001b[0m \u001b[38;5;66;03m# TODO: print(totals)\u001b[39;00m\n\u001b[0;32m      2\u001b[0m \u001b[38;5;66;03m# TODO: compute verdict\u001b[39;00m\n\u001b[1;32m----> 3\u001b[0m \u001b[38;5;28;01mraise\u001b[39;00m \u001b[38;5;167;01mNotImplementedError\u001b[39;00m(\u001b[38;5;124m'\u001b[39m\u001b[38;5;124mverdict not implemented yet\u001b[39m\u001b[38;5;124m'\u001b[39m)\n",
      "\u001b[1;31mNotImplementedError\u001b[0m: verdict not implemented yet"
     ]
    }
   ],
   "source": [
    "# TODO: print(totals)\n",
    "# TODO: compute verdict\n",
    "raise NotImplementedError('verdict not implemented yet')\n"
   ]
  },
  {
   "cell_type": "markdown",
   "id": "b6e24fe0",
   "metadata": {},
   "source": [
    "## 7) Optional: Bar Chart (nice to have)\n",
    "If you know matplotlib, you can draw a simple bar chart."
   ]
  },
  {
   "cell_type": "code",
   "execution_count": 7,
   "id": "21256f55",
   "metadata": {
    "scrolled": true
   },
   "outputs": [
    {
     "name": "stdout",
     "output_type": "stream",
     "text": [
      "Chart skipped or totals not ready yet: name 'totals' is not defined\n"
     ]
    }
   ],
   "source": [
    "# Optional\n",
    "try:\n",
    "    import matplotlib.pyplot as plt\n",
    "    labels = list(totals.keys())\n",
    "    values = [totals[k] for k in labels]\n",
    "    plt.figure()\n",
    "    plt.bar(labels, values)\n",
    "    plt.title('Sentiment counts')\n",
    "    plt.xlabel('Label')\n",
    "    plt.ylabel('Count')\n",
    "    plt.show()\n",
    "except Exception as e:\n",
    "    print('Chart skipped or totals not ready yet:', e)"
   ]
  },
  {
   "cell_type": "markdown",
   "id": "007b3752",
   "metadata": {},
   "source": [
    "---\n",
    "### Checklist to Submit\n",
    "- [ ] Filled POS/NEG keywords\n",
    "- [ ] Implemented `map_post`\n",
    "- [ ] Grouped mapped output into `groups`\n",
    "- [ ] Reduced to `totals`\n",
    "- [ ] Printed totals and verdict\n",
    "- [ ] (Optional) Chart\n"
   ]
  }
 ],
 "metadata": {
  "kernelspec": {
   "display_name": "Python 3 (ipykernel)",
   "language": "python",
   "name": "python3"
  },
  "language_info": {
   "codemirror_mode": {
    "name": "ipython",
    "version": 3
   },
   "file_extension": ".py",
   "mimetype": "text/x-python",
   "name": "python",
   "nbconvert_exporter": "python",
   "pygments_lexer": "ipython3",
   "version": "3.13.5"
  }
 },
 "nbformat": 4,
 "nbformat_minor": 5
}
